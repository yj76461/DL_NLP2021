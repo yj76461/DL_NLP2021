{
  "nbformat": 4,
  "nbformat_minor": 0,
  "metadata": {
    "colab": {
      "name": "py3.201710807.ipynb",
      "private_outputs": true,
      "provenance": [],
      "collapsed_sections": [],
      "authorship_tag": "ABX9TyP5jexmT4tZr/75Rob7HzfG",
      "include_colab_link": true
    },
    "kernelspec": {
      "name": "python3",
      "display_name": "Python 3"
    },
    "language_info": {
      "name": "python"
    },
    "accelerator": "GPU"
  },
  "cells": [
    {
      "cell_type": "markdown",
      "metadata": {
        "id": "view-in-github",
        "colab_type": "text"
      },
      "source": [
        "<a href=\"https://colab.research.google.com/github/yj76461/DL_NLP/blob/main/py3_201710807.ipynb\" target=\"_parent\"><img src=\"https://colab.research.google.com/assets/colab-badge.svg\" alt=\"Open In Colab\"/></a>"
      ]
    },
    {
      "cell_type": "code",
      "metadata": {
        "id": "YR4Ulx-6x9sX"
      },
      "source": [
        "#드라이브 마운트\n",
        "from google.colab import drive\n",
        "drive.mount('/content/drive')"
      ],
      "execution_count": null,
      "outputs": []
    },
    {
      "cell_type": "code",
      "metadata": {
        "id": "2iAvljPxGLTt"
      },
      "source": [
        "#버전 확인\n",
        "import sys\n",
        "print(sys.version)"
      ],
      "execution_count": null,
      "outputs": []
    },
    {
      "cell_type": "code",
      "metadata": {
        "id": "6eNowGAez9jk"
      },
      "source": [
        "#GPU사용여부\n",
        "torch.cuda.is_available()"
      ],
      "execution_count": null,
      "outputs": []
    },
    {
      "cell_type": "code",
      "metadata": {
        "id": "_Lki7ywayewx"
      },
      "source": [
        "import torch\n",
        "import torch.nn as nn\n",
        "import torchvision.datasets as dset\n",
        "import torchvision.transforms as transforms\n",
        "from torch.utils.data import DataLoader\n",
        "from torch.autograd import Variable\n",
        "import matplotlib.pyplot as plt\n",
        "%matplotlib inline"
      ],
      "execution_count": null,
      "outputs": []
    },
    {
      "cell_type": "code",
      "metadata": {
        "id": "Fs4OzIwnyqqP"
      },
      "source": [
        "mnist_train=dset.MNIST(\"\", train=True, transform=transforms.ToTensor(),target_transform=None,download=True)\n",
        "mnist_test=dset.MNIST(\"\", train=False, transform=transforms.ToTensor(),target_transform=None,download=True)"
      ],
      "execution_count": null,
      "outputs": []
    },
    {
      "cell_type": "code",
      "metadata": {
        "id": "I6W5I_QD0Yrc"
      },
      "source": [
        "print (\"mnist_train 길이:\", len(mnist_train))\n",
        "print (\"mnist_test 길이:\", len(mnist_test))\n",
        "\n",
        "image, label = mnist_train.__getitem__(0)\n",
        "print (\"image data 형태:\", image.size())\n",
        "print (\"label: \", label)\n",
        "\n",
        "img = image.numpy()\n",
        "plt.title(\"label: %d\" %label)\n",
        "plt.imshow(img[0], cmap='gray')\n",
        "plt.show()"
      ],
      "execution_count": null,
      "outputs": []
    },
    {
      "cell_type": "code",
      "metadata": {
        "id": "yiMB8F4ZD5rW"
      },
      "source": [
        "print(mnist_train[0][1])\n",
        "print(mnist_train[0][0].size())\n",
        "\n",
        "for i in range(3):\n",
        "    img=mnist_train[i][0].numpy()\n",
        "    print(mnist_train[i][1])\n",
        "    plt.imshow(img[0],cmap='gray')\n",
        "    plt.show()"
      ],
      "execution_count": null,
      "outputs": []
    },
    {
      "cell_type": "code",
      "metadata": {
        "id": "MOQYIzadEQ-N"
      },
      "source": [
        "image, label = mnist_train[0]\n",
        "\n",
        "image=image.view(-1, image.size()[0], image.size()[1], image.size()[2])\n",
        "print(image.size())\n",
        "\n",
        "print (label)\n",
        "\n",
        "conv_layer=nn.Conv2d(in_channels=1,out_channels=3,kernel_size=3,padding=1)\n",
        "\n",
        "output=conv_layer(Variable(image))\n",
        "print(output.size())\n",
        "\n",
        "for i in range(3):\n",
        "    plt.imshow(output[0,i,:,:].data.numpy(), cmap='gray')\n",
        "    plt.show()"
      ],
      "execution_count": null,
      "outputs": []
    },
    {
      "cell_type": "code",
      "metadata": {
        "id": "vercg_ErE-oe"
      },
      "source": [
        "import numpy as np\n",
        "import torch.optim as optim\n",
        "\n",
        "batch_size = 16\n",
        "learning_rate= 0.0002\n",
        "num_epoch = 10"
      ],
      "execution_count": null,
      "outputs": []
    },
    {
      "cell_type": "code",
      "metadata": {
        "id": "CFkBcDeoCoZo"
      },
      "source": [
        "train_loader = torch.utils.data.DataLoader(list(mnist_train)[:batch_size*100], batch_size=batch_size,\n",
        "                                           shuffle=True, num_workers=2, drop_last=True)\n",
        "test_loader = torch.utils.data.DataLoader((mnist_test), batch_size=batch_size,\n",
        "                                           shuffle=False, num_workers=2, drop_last=True)"
      ],
      "execution_count": null,
      "outputs": []
    },
    {
      "cell_type": "code",
      "metadata": {
        "id": "qhbnk68BFGqh"
      },
      "source": [
        "class CNN(nn.Module):\n",
        "    def __init__(self):\n",
        "        super(CNN,self).__init__()\n",
        "        self.layer=nn.Sequential(\n",
        "            nn.Conv2d(1,16,5,padding=2),\n",
        "            nn.ReLU(),\n",
        "            #nn.Dropout2d(0.2),\n",
        "            #nn.BatchNorm2d(16),\n",
        "            nn.Conv2d(16,32,5,padding=2),\n",
        "            nn.ReLU(),\n",
        "            nn.MaxPool2d(2,2),\n",
        "            #nn.Dropout2d(0.2),\n",
        "            #nn.BatchNorm2d(32),\n",
        "            \n",
        "            nn.Conv2d(32,64,5,padding=2),\n",
        "            nn.ReLU(),\n",
        "            \n",
        "            #nn.Dropout2d(0.2),\n",
        "            #nn.BatchNorm2d(64),\n",
        "\n",
        "            nn.MaxPool2d(2,2)\n",
        "        )\n",
        "        self.fc_layer=nn.Sequential(\n",
        "            nn.Linear(64*7*7, 100),\n",
        "            nn.ReLU(),\n",
        "            #nn.Dropout2d(0.2),\n",
        "            #nn.BatchNorm1d(100),\n",
        "            nn.Linear(100,10)\n",
        "        )\n",
        "\n",
        "        # for m in self.modules():\n",
        "        #     if isinstance(m, nn.Conv2d):\n",
        "        #         init.kaiming_normal(m.weight.data)\n",
        "        #         m.bias.data.fill_(0)\n",
        "\n",
        "        #     if isinstance(m, nn.Linear):\n",
        "        #         init.kaiming_normal(m.weight.data)\n",
        "        #         m.bias.data.fill_(0)\n",
        "\n",
        "    def forward(self,x):\n",
        "        out=self.layer(x)\n",
        "        out=out.view(batch_size,-1)\n",
        "        out=self.fc_layer(out)\n",
        "\n",
        "        return out\n",
        "model = CNN()"
      ],
      "execution_count": null,
      "outputs": []
    },
    {
      "cell_type": "code",
      "metadata": {
        "id": "Seb8rhAbFxRG"
      },
      "source": [
        "for parameter in model.parameters():\n",
        "    print(parameter)\n",
        "    print(parameter.shape)"
      ],
      "execution_count": null,
      "outputs": []
    },
    {
      "cell_type": "code",
      "metadata": {
        "id": "RwojQgLGGGsJ"
      },
      "source": [
        "loss_func=nn.CrossEntropyLoss()\n",
        "\n",
        "#optimizer=torch.optim.SGD(model.parameters(), lr=learning_rate)\n",
        "optimizer=torch.optim.Adam(model.parameters(), lr=learning_rate)\n",
        "\n",
        "#scheduler=lr_scheduler.StepLR(optimizer, step_size=20, gamma=0.2)\n",
        "\n",
        "#model.train()\n",
        "\n",
        "for i in range(num_epoch):\n",
        "    for j,[image, label] in enumerate(train_loader):\n",
        "        x=Variable(image)\n",
        "        y_=Variable(label)\n",
        "\n",
        "        optimizer.zero_grad()\n",
        "        output=model.forward(x)\n",
        "        loss=loss_func(output,y_)\n",
        "        loss.backward()\n",
        "        optimizer.step()\n",
        "\n",
        "        if j%50==0:\n",
        "            print(loss, j, i)"
      ],
      "execution_count": null,
      "outputs": []
    },
    {
      "cell_type": "code",
      "metadata": {
        "id": "tv9XcK8NDHGu"
      },
      "source": [
        "#save할때 ./drive/My Drive 부터 시작\n",
        "torch.save(model, './drive/My Drive/Colab Notebooks/mycnn_model_%d.pkl'%(num_epoch))"
      ],
      "execution_count": null,
      "outputs": []
    },
    {
      "cell_type": "code",
      "metadata": {
        "id": "B74WasdpEelW"
      },
      "source": [
        "try:\n",
        "    model=torch.load('./drive/My Drive/Colab Notebooks/mycnn_model_10.pkl')\n",
        "    print(\"model restored\")\n",
        "except:\n",
        "    print(\"model not restored\")"
      ],
      "execution_count": null,
      "outputs": []
    },
    {
      "cell_type": "code",
      "metadata": {
        "id": "I4v1aRJoEvX0"
      },
      "source": [
        "def ComputeAccr(dloader, imodel):\n",
        "    correct = 0\n",
        "    total = 0\n",
        "\n",
        "    for j, [imgs, labels] in enumerate(dloader):\n",
        "        img = Variable(imgs)\n",
        "        label = Variable(labels)\n",
        "\n",
        "        output = imodel.forward(img)\n",
        "        _, output_index = torch.max(output, 1)\n",
        "\n",
        "        total += label.size(0)\n",
        "        correct += (output_index == label).sum().float()\n",
        "    print(\"Accuracy of Test Data: {}\".format(100*correct/total))\n",
        "    "
      ],
      "execution_count": null,
      "outputs": []
    },
    {
      "cell_type": "code",
      "metadata": {
        "id": "WtBNxAPfFgiN"
      },
      "source": [
        "ComputeAccr(test_loader,model)"
      ],
      "execution_count": null,
      "outputs": []
    }
  ]
}